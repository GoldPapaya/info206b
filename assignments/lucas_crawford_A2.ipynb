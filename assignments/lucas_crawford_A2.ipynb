{
 "cells": [
  {
   "cell_type": "code",
   "execution_count": 1,
   "id": "a2e81665",
   "metadata": {},
   "outputs": [],
   "source": [
    "def recursiveBinarySearch(nums, target, left, right):\n",
    "    i = (left+right)//2\n",
    "    if left > right:\n",
    "        return None\n",
    "    elif nums[i] == target:\n",
    "        return i\n",
    "    elif nums[i] < target:\n",
    "        return recursiveBinarySearch(nums, target, i+1, right)\n",
    "    else: # nums[i] > target:\n",
    "        return recursiveBinarySearch(nums, target, left, i-1)\n",
    "    \n",
    "#testlst = [27, 78, 105, 135, 411, 431, 434, 468, 493, 501, 525, 534, 551, 654, 780]\n",
    "#print(recursiveBinarySearch(testlst, 135, 0, 14))\n",
    "#print(recursiveBinarySearch(testlst, 500, 0, 14))\n",
    "#print(recursiveBinarySearch(testlst, 135, 2, 12))"
   ]
  },
  {
   "cell_type": "code",
   "execution_count": 3,
   "id": "1bd61908",
   "metadata": {},
   "outputs": [
    {
     "name": "stdout",
     "output_type": "stream",
     "text": [
      "[25, 42, 44, 45, 46, 87, 107, 108, 127, 140, 145, 150, 151, 151, 166, 180, 181, 192, 195, 198, 206, 209, 232, 248, 252, 256, 266, 268, 274, 276, 296, 308, 314, 316, 335, 336, 347, 367, 373, 435, 456, 468, 488, 521, 579, 593, 622, 671, 698, 726, 741, 786, 803, 836, 855, 932, 934, 983]\n",
      "Element not found in the list\n",
      "Found at index:  16\n"
     ]
    }
   ],
   "source": [
    "import random\n",
    "\n",
    "elementsLen = int(input('Enter number of list elements: '))\n",
    "\n",
    "lst = []\n",
    "for i in range(elementsLen):\n",
    "    lst.append(random.randint(0, 1000))\n",
    "lst = sorted(lst)\n",
    "print(lst)\n",
    "\n",
    "while True:\n",
    "    userInputPrompt = input('[?] - Print \\n [q] - Quit \\n [Other] - Binary search')\n",
    "    if userInputPrompt == '?':\n",
    "        print(lst)\n",
    "    elif userInputPrompt == 'q':\n",
    "        break\n",
    "    else:\n",
    "        target = int(input(\"Enter a number to search for in the list: \"))\n",
    "        if recursiveBinarySearch(lst, target, 0, len(lst)-1):\n",
    "            print(\"Found at index: \", recursiveBinarySearch(lst, target, 0, len(lst)-1))\n",
    "        else:\n",
    "            print(\"Element not found in the list\")"
   ]
  }
 ],
 "metadata": {
  "kernelspec": {
   "display_name": "Python 3",
   "language": "python",
   "name": "python3"
  },
  "language_info": {
   "codemirror_mode": {
    "name": "ipython",
    "version": 3
   },
   "file_extension": ".py",
   "mimetype": "text/x-python",
   "name": "python",
   "nbconvert_exporter": "python",
   "pygments_lexer": "ipython3",
   "version": "3.13.7"
  }
 },
 "nbformat": 4,
 "nbformat_minor": 5
}

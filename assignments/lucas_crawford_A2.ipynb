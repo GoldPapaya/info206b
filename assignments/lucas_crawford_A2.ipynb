{
 "cells": [
  {
   "cell_type": "code",
   "execution_count": 1,
   "id": "a2e81665",
   "metadata": {},
   "outputs": [
    {
     "name": "stdout",
     "output_type": "stream",
     "text": [
      "3\n",
      "None\n",
      "3\n"
     ]
    }
   ],
   "source": [
    "def recursiveBinarySearch(nums, target, l, r):\n",
    "    i = (l+r)//2\n",
    "    if l > r:\n",
    "        return None\n",
    "    elif nums[i] == target:\n",
    "        return i\n",
    "    elif nums[i] < target:\n",
    "        return recursiveBinarySearch(nums, target, i+1, r)\n",
    "    else: # nums[i] > target:\n",
    "        return recursiveBinarySearch(nums, target, l, i-1)\n",
    "    \n",
    "lst = [27, 78, 105, 135, 411, 431, 434, 468, 493, 501, 525, 534, 551, 654, 780]\n",
    "print(recursiveBinarySearch(lst, 135, 0, 14))\n",
    "print(recursiveBinarySearch(lst, 500, 0, 14))\n",
    "print(recursiveBinarySearch(lst, 135, 2, 12))"
   ]
  },
  {
   "cell_type": "code",
   "execution_count": 5,
   "id": "1bd61908",
   "metadata": {},
   "outputs": [
    {
     "name": "stdout",
     "output_type": "stream",
     "text": [
      "hello lol\n"
     ]
    }
   ],
   "source": [
    "test = input('enterstuff')\n",
    "print('hello {}'.format(test))"
   ]
  }
 ],
 "metadata": {
  "kernelspec": {
   "display_name": "Python 3",
   "language": "python",
   "name": "python3"
  },
  "language_info": {
   "codemirror_mode": {
    "name": "ipython",
    "version": 3
   },
   "file_extension": ".py",
   "mimetype": "text/x-python",
   "name": "python",
   "nbconvert_exporter": "python",
   "pygments_lexer": "ipython3",
   "version": "3.13.7"
  }
 },
 "nbformat": 4,
 "nbformat_minor": 5
}

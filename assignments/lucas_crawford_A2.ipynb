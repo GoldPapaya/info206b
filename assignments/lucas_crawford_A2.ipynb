{
 "cells": [
  {
   "cell_type": "code",
   "execution_count": 1,
   "id": "a2e81665",
   "metadata": {},
   "outputs": [],
   "source": [
    "def recursiveBinarySearch(nums, target, left, right):\n",
    "    i = (left+right)//2\n",
    "    if left > right:\n",
    "        return None\n",
    "    elif nums[i] == target:\n",
    "        return i\n",
    "    elif nums[i] < target:\n",
    "        return recursiveBinarySearch(nums, target, i+1, right)\n",
    "    else: # nums[i] > target:\n",
    "        return recursiveBinarySearch(nums, target, left, i-1)"
   ]
  },
  {
   "cell_type": "code",
   "execution_count": 2,
   "id": "448be0bb",
   "metadata": {},
   "outputs": [
    {
     "name": "stdout",
     "output_type": "stream",
     "text": [
      "3\n",
      "None\n",
      "3\n"
     ]
    }
   ],
   "source": [
    "# some test cases for the recursiveBinarySearch function above\n",
    "testlst = [27, 78, 105, 135, 411, 431, 434, 468, 493, 501, 525, 534, 551, 654, 780]\n",
    "print(recursiveBinarySearch(testlst, 135, 0, 14))\n",
    "print(recursiveBinarySearch(testlst, 500, 0, 14))\n",
    "print(recursiveBinarySearch(testlst, 135, 2, 12))"
   ]
  },
  {
   "cell_type": "code",
   "execution_count": null,
   "id": "1bd61908",
   "metadata": {},
   "outputs": [
    {
     "name": "stdout",
     "output_type": "stream",
     "text": [
      "[6, 10, 19, 42, 47, 49, 67, 67, 91, 102, 117, 136, 178, 194, 207, 211, 223, 230, 230, 244, 264, 274, 291, 295, 315, 335, 336, 353, 362, 396, 399, 406, 428, 453, 464, 489, 491, 517, 532, 537, 538, 541, 546, 579, 580, 587, 593, 603, 606, 625, 631, 633, 663, 674, 675, 676, 686, 686, 702, 708, 709, 715, 716, 717, 743, 750, 757, 757, 772, 772, 779, 782, 785, 793, 803, 824, 843, 888, 902, 912, 917, 922, 956, 978]\n",
      "Element not found in the list\n",
      "Found at index:  8\n",
      "Element not found in the list\n",
      "Found at index:  0\n",
      "Element not found in the list\n"
     ]
    }
   ],
   "source": [
    "import random\n",
    "\n",
    "# generate a sorted list with length elementsLen and random integers\n",
    "elementsLen = int(input('Enter number of list elements: '))\n",
    "lst = []\n",
    "for i in range(elementsLen):\n",
    "    lst.append(random.randint(0, 1000))\n",
    "lst = sorted(lst)\n",
    "\n",
    "# main loop for user input\n",
    "while True:\n",
    "    userInputPrompt = input('[?] - Print \\n [q] - Quit \\n [Other] - Binary search')\n",
    "    if userInputPrompt == '?':\n",
    "        print(lst)\n",
    "    elif userInputPrompt == 'q':\n",
    "        break\n",
    "    else:\n",
    "        target = int(input(\"Enter a number to search for in the list: \"))\n",
    "        res = recursiveBinarySearch(lst, target, 0, len(lst)-1)\n",
    "        if type(res) == int:\n",
    "            print(\"Found at index: \", res)\n",
    "        else:\n",
    "            print(\"Element not found in the list\")"
   ]
  }
 ],
 "metadata": {
  "kernelspec": {
   "display_name": "Python 3",
   "language": "python",
   "name": "python3"
  },
  "language_info": {
   "codemirror_mode": {
    "name": "ipython",
    "version": 3
   },
   "file_extension": ".py",
   "mimetype": "text/x-python",
   "name": "python",
   "nbconvert_exporter": "python",
   "pygments_lexer": "ipython3",
   "version": "3.13.7"
  }
 },
 "nbformat": 4,
 "nbformat_minor": 5
}

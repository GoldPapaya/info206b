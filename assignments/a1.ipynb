{
 "cells": [
  {
   "cell_type": "code",
   "execution_count": 31,
   "id": "4eaaeb61",
   "metadata": {},
   "outputs": [],
   "source": [
    "class City:\n",
    "    def __init__(self, country_code, name, region, population, latitude, longitude):\n",
    "        self.countryCode = country_code\n",
    "        self.name = name\n",
    "        self.region = region\n",
    "        self.population = population\n",
    "        self.latitude = latitude\n",
    "        self.longitude = longitude\n",
    "\n",
    "    def __str__(self):\n",
    "        return \"{},{},{},{}\".format(self.name,\n",
    "                                    self.population,\n",
    "                                    self.latitude,\n",
    "                                    self.longitude,\n",
    "                                    )\n",
    "\n",
    "    def get_population(self):\n",
    "        return self.population\n",
    "\n",
    "    def get_latitude(self):\n",
    "        return self.latitude\n",
    "\n",
    "    def get_name(self):\n",
    "        return self.name"
   ]
  },
  {
   "cell_type": "code",
   "execution_count": 32,
   "id": "0417878a",
   "metadata": {},
   "outputs": [
    {
     "name": "stdout",
     "output_type": "stream",
     "text": [
      "california,123,456,789\n"
     ]
    }
   ],
   "source": [
    "a = City(1, 'california', 'usa', 123, 456, 789)\n",
    "print(a)"
   ]
  },
  {
   "cell_type": "code",
   "execution_count": 33,
   "id": "04007364",
   "metadata": {},
   "outputs": [],
   "source": [
    "# Performs the quicksort algorithm.\n",
    "\n",
    "# Partition the sublist the_list[p ... r] so that the pivot\n",
    "# (originally in the_list[r]) moves to the_list[q],\n",
    "# all items in the_list[p ... q-1] are less than or equal to the pivot,\n",
    "# and all items in the_list[q+1 ... r] are greater than the pivot.\n",
    "# Return the index q where the pivot ends up.\n",
    "def partition(the_list, p, r, compare_func):\n",
    "    pivot = the_list[r]\n",
    "    \n",
    "    # Set up the indices i and j so that\n",
    "    #    the_list[p ... i] contains items <= pivot,\n",
    "    #    the_list[i+1 ... j-1] contains items > pivot, and\n",
    "    #    the_list[j ... r-1] contains items not yet compared with the pivot.\n",
    "    i = p - 1\n",
    "    j = p\n",
    "    while j < r:\n",
    "        if compare_func(the_list[j], pivot):\n",
    "            # Move this item into the section known to be <= pivot.\n",
    "            i += 1\n",
    "            (the_list[i], the_list[j]) = (the_list[j], the_list[i])\n",
    "        j += 1\n",
    "            \n",
    "    # Get the pivot into the correct position.\n",
    "    (the_list[i+1], the_list[r]) = (the_list[r], the_list[i+1])\n",
    "    return i+1\n",
    "\n",
    "# Sort the sublist the_list[p ... r] using the quicksort algorithm.\n",
    "def quicksort(the_list, p, r, compare_func):\n",
    "    if p < r:   # nothing to do if the sublist has fewer than 2 items\n",
    "        q = partition(the_list, p, r, compare_func) # divide\n",
    "        quicksort(the_list, p, q-1, compare_func)   # conquer smaller items\n",
    "        quicksort(the_list, q+1, r, compare_func)   # conquer larger items\n",
    "\n",
    "# Sort the_list by running quicksort on it.        \n",
    "def sort(the_list, compare_func):\n",
    "    quicksort(the_list, 0, len(the_list)-1, compare_func)\n",
    "\n",
    "# Return True if city1 has the same or higher population than city2.\n",
    "def compare_population(city1, city2):\n",
    "    return city1.get_population() >= city2.get_population()\n",
    "\n",
    "# Return True if city1 comes at or before city2 alphabetically.\n",
    "def compare_name(city1, city2):\n",
    "    return city1.get_name().lower() <= city2.get_name().lower()\n",
    "\n",
    "# Return True if city1's latitude is less than or equal to city2's latitude.\n",
    "def compare_latitude(city1, city2):\n",
    "    return city1.get_latitude() <= city2.get_latitude()\n"
   ]
  },
  {
   "cell_type": "code",
   "execution_count": 34,
   "id": "39218fe8",
   "metadata": {},
   "outputs": [
    {
     "name": "stdout",
     "output_type": "stream",
     "text": [
      "Andorra La Vella,20430,42.5,1.5166667\n"
     ]
    }
   ],
   "source": [
    "with open('../data/world_cities.txt', 'r') as file:\n",
    "    data = file.read()\n",
    "\n",
    "data = data.split('\\n') # first split by line\n",
    "cities = []\n",
    "for line in data:\n",
    "    cities.append(line.split(',')) # then split by comma\n",
    "\n",
    "#print(cities[0])\n",
    "\n",
    "for i in range(len(cities)):\n",
    "    try:\n",
    "        cities[i] = City(cities[i][0], # country_code\n",
    "                         cities[i][1], # name\n",
    "                         cities[i][2], # region\n",
    "                         cities[i][3], # population\n",
    "                         cities[i][4], # latitude\n",
    "                         cities[i][5], # longitude\n",
    "                         )\n",
    "    except:\n",
    "        print('ERROR - line: ', i+1)\n",
    "print(cities[0]) # print a City (now printing with __str__ method)"
   ]
  },
  {
   "cell_type": "code",
   "execution_count": null,
   "id": "4a086e52",
   "metadata": {},
   "outputs": [
    {
     "name": "stdout",
     "output_type": "stream",
     "text": [
      "[<__main__.City object at 0x0000015A964D3350>, <__main__.City object at 0x0000015A98148230>, <__main__.City object at 0x0000015A92DCE270>, <__main__.City object at 0x0000015A94B17930>, <__main__.City object at 0x0000015A92DE7ED0>, <__main__.City object at 0x0000015A98142F70>, <__main__.City object at 0x0000015A92C18710>, <__main__.City object at 0x0000015A94B137D0>, <__main__.City object at 0x0000015A981394F0>, <__main__.City object at 0x0000015A98139440>, <__main__.City object at 0x0000015A952E99F0>, <__main__.City object at 0x0000015A980C9630>, <__main__.City object at 0x0000015A92DE4F50>, <__main__.City object at 0x0000015A964D2850>, <__main__.City object at 0x0000015A92D9F230>, <__main__.City object at 0x0000015A92D9FBB0>, <__main__.City object at 0x0000015A92C72D50>, <__main__.City object at 0x0000015A92DCAAD0>, <__main__.City object at 0x0000015A92DCA690>, <__main__.City object at 0x0000015A9814AC60>]\n"
     ]
    }
   ],
   "source": [
    "sort(cities, compare_func=compare_name)\n",
    "with open(\"../data/cities_alpha.txt\", \"w\") as file:\n",
    "    for city in cities:\n",
    "        file.write(str(city) + '\\n')"
   ]
  }
 ],
 "metadata": {
  "kernelspec": {
   "display_name": "Python 3",
   "language": "python",
   "name": "python3"
  },
  "language_info": {
   "codemirror_mode": {
    "name": "ipython",
    "version": 3
   },
   "file_extension": ".py",
   "mimetype": "text/x-python",
   "name": "python",
   "nbconvert_exporter": "python",
   "pygments_lexer": "ipython3",
   "version": "3.13.7"
  }
 },
 "nbformat": 4,
 "nbformat_minor": 5
}

{
 "cells": [
  {
   "cell_type": "code",
   "execution_count": 7,
   "id": "ff105ac9",
   "metadata": {},
   "outputs": [],
   "source": [
    "def bubbleSort(lst):\n",
    "    while True:\n",
    "        swaps = False\n",
    "        for i in range(1, len(lst)):\n",
    "            if lst[i] < lst[i-1]:\n",
    "                lst[i-1], lst[i] = lst[i], lst[i-1]\n",
    "                swaps = True\n",
    "        if not swaps:\n",
    "            break\n",
    "    return lst\n",
    "\n",
    "#bubbleSort([4,5,2,6,7])\n",
    "#bubbleSort([])\n",
    "#bubbleSort([-1,6,0,1,4,10])"
   ]
  },
  {
   "cell_type": "code",
   "execution_count": null,
   "id": "3b75c5f6",
   "metadata": {},
   "outputs": [
    {
     "name": "stdout",
     "output_type": "stream",
     "text": [
      "testlst1 before sorting:  [950, 769, 982, 761, 732, 100, 841, 0, 389, 624]\n",
      "testlst2 before sorting:  [-73, -381, -478, 206, -118, 192, -454, -184, -223, 439]\n",
      "testlst3 before sorting:  [1, 0, 0, 1, 1, 0, 1, 0, 1, 0]\n",
      "testlst4 before sorting:  []\n",
      "testlst4 before sorting:  [0]\n",
      "testlst1 after sorting:  [0, 100, 389, 624, 732, 761, 769, 841, 950, 982]\n",
      "testlst2 after sorting:  [-478, -454, -381, -223, -184, -118, -73, 192, 206, 439]\n",
      "testlst3 after sorting:  [0, 0, 0, 0, 0, 1, 1, 1, 1, 1]\n",
      "testlst4 after sorting:  []\n",
      "testlst4 after sorting:  [0]\n"
     ]
    }
   ],
   "source": [
    "import random\n",
    "\n",
    "# generate a list with length elementsLen and random integers\n",
    "elementsLen = int(input('Enter number of list elements: '))\n",
    "testlst1, testlst2, testlst3, testlst4, testlst5 = [],[],[],[],[0]\n",
    "for i in range(elementsLen):\n",
    "    testlst1.append(random.randint(0, 1000))\n",
    "    testlst2.append(random.randint(-500, 500))\n",
    "    testlst3.append(random.randint(0, 1))\n",
    "\n",
    "# print test lists before bubbleSort\n",
    "print(\"testlst1 before sorting: \", testlst1)\n",
    "print(\"testlst2 before sorting: \", testlst2)\n",
    "print(\"testlst3 before sorting: \", testlst3)\n",
    "print(\"testlst4 before sorting: \", testlst4)\n",
    "print(\"testlst4 before sorting: \", testlst5)\n",
    "\n",
    "# print test lists after bubbleSort\n",
    "print(\"testlst1 after sorting: \", bubbleSort(testlst1))\n",
    "print(\"testlst2 after sorting: \", bubbleSort(testlst2))\n",
    "print(\"testlst3 after sorting: \", bubbleSort(testlst3))\n",
    "print(\"testlst4 after sorting: \", bubbleSort(testlst4))\n",
    "print(\"testlst4 after sorting: \", bubbleSort(testlst5))\n",
    "\n",
    "# time complexity should be O(n^2) if we assume the worst case of an input array that starts in reverse order\n",
    "# such an ordering will require n swaps to be performed, comparing n elements each swap."
   ]
  }
 ],
 "metadata": {
  "kernelspec": {
   "display_name": "Python 3",
   "language": "python",
   "name": "python3"
  },
  "language_info": {
   "codemirror_mode": {
    "name": "ipython",
    "version": 3
   },
   "file_extension": ".py",
   "mimetype": "text/x-python",
   "name": "python",
   "nbconvert_exporter": "python",
   "pygments_lexer": "ipython3",
   "version": "3.13.7"
  }
 },
 "nbformat": 4,
 "nbformat_minor": 5
}

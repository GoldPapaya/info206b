{
 "cells": [
  {
   "cell_type": "code",
   "execution_count": null,
   "id": "ff105ac9",
   "metadata": {},
   "outputs": [
    {
     "data": {
      "text/plain": [
       "[]"
      ]
     },
     "execution_count": 8,
     "metadata": {},
     "output_type": "execute_result"
    }
   ],
   "source": [
    "def bubbleSort(lst):\n",
    "    while True:\n",
    "        swaps = False\n",
    "        for i in range(1, len(lst)-1):\n",
    "            if lst[i] < lst[i-1]:\n",
    "                lst[i-1], lst[i] = lst[i], lst[i-1]\n",
    "                swaps = True\n",
    "        if not swaps:\n",
    "            break\n",
    "    return lst\n",
    "\n",
    "#bubbleSort([4,5,2,6,7])\n",
    "#bubbleSort([])\n",
    "#bubbleSort([-1,6,0,1,4,10])"
   ]
  }
 ],
 "metadata": {
  "kernelspec": {
   "display_name": "Python 3",
   "language": "python",
   "name": "python3"
  },
  "language_info": {
   "codemirror_mode": {
    "name": "ipython",
    "version": 3
   },
   "file_extension": ".py",
   "mimetype": "text/x-python",
   "name": "python",
   "nbconvert_exporter": "python",
   "pygments_lexer": "ipython3",
   "version": "3.13.7"
  }
 },
 "nbformat": 4,
 "nbformat_minor": 5
}
